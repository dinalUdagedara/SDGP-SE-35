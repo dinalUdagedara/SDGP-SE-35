{
 "cells": [
  {
   "cell_type": "code",
   "execution_count": 10,
   "outputs": [],
   "source": [
    "import joblib\n",
    "import pandas as pd\n",
    "\n",
    " # If you're using scikit-learn version <= 0.23\n",
    "# from joblib import load  # If you're using scikit-learn version >= 0.24\n",
    "#Function to predict precipitation sum\n",
    "# Load the model\n",
    "rf_regressor = joblib.load('random_forest_regressor_model.pkl')\n",
    "def predict_precipitation(city, date):\n",
    "    # Preprocess user input\n",
    "    input_data = {\n",
    "        'city_Colombo': 1 if city.lower() == 'colombo' else 0,\n",
    "        'year': pd.to_datetime(date).year,\n",
    "        'month': pd.to_datetime(date).month,\n",
    "        'day': pd.to_datetime(date).day\n",
    "        # Include other necessary features here\n",
    "    }\n",
    "    input_df = pd.DataFrame([input_data])\n",
    "\n",
    "    # Make prediction\n",
    "    prediction = rf_regressor.predict(input_df)[0]\n",
    "    return prediction\n",
    "\n",
    "\n",
    "\n"
   ],
   "metadata": {
    "collapsed": false,
    "ExecuteTime": {
     "end_time": "2024-02-08T15:23:27.598037400Z",
     "start_time": "2024-02-08T15:23:27.539296200Z"
    }
   }
  },
  {
   "cell_type": "code",
   "execution_count": 15,
   "outputs": [
    {
     "name": "stdout",
     "output_type": "stream",
     "text": [
      "Predicted precipitation sum for colombo on 2010-06-13: 10.277000000000003\n"
     ]
    }
   ],
   "source": [
    "# Get user input for city and date\n",
    "city_input = input(\"Enter the city: \")\n",
    "date_input = input(\"Enter the date (YYYY-MM-DD): \")\n",
    "\n",
    "# Call the function to predict precipitation\n",
    "prediction = predict_precipitation(city_input, date_input)\n",
    "\n",
    "# Print the prediction\n",
    "print(f\"Predicted precipitation sum for {city_input} on {date_input}: {prediction}\")"
   ],
   "metadata": {
    "collapsed": false,
    "ExecuteTime": {
     "end_time": "2024-02-08T15:24:39.301081800Z",
     "start_time": "2024-02-08T15:24:31.757782500Z"
    }
   }
  },
  {
   "cell_type": "code",
   "execution_count": null,
   "outputs": [],
   "source": [],
   "metadata": {
    "collapsed": false
   }
  }
 ],
 "metadata": {
  "kernelspec": {
   "display_name": "Python 3",
   "language": "python",
   "name": "python3"
  },
  "language_info": {
   "codemirror_mode": {
    "name": "ipython",
    "version": 2
   },
   "file_extension": ".py",
   "mimetype": "text/x-python",
   "name": "python",
   "nbconvert_exporter": "python",
   "pygments_lexer": "ipython2",
   "version": "2.7.6"
  }
 },
 "nbformat": 4,
 "nbformat_minor": 0
}
